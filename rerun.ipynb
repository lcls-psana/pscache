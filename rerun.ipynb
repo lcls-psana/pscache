{
 "cells": [
  {
   "cell_type": "markdown",
   "metadata": {
    "collapsed": true
   },
   "source": [
    "## A minimal example of the redis monitoring system"
   ]
  },
  {
   "cell_type": "markdown",
   "metadata": {},
   "source": [
    "Instructions:\n",
    "\n",
    "1. Start a redis server:\n",
    "`$ sh local-redis `\n",
    "\n",
    "2. Start a publisher that pushes data to the server:\n",
    "`$ python animated_pub.py`\n",
    "\n",
    "3. Run the cells below. These start a client that pulls data from the server and visualizes it."
   ]
  },
  {
   "cell_type": "code",
   "execution_count": 3,
   "metadata": {
    "collapsed": false
   },
   "outputs": [
    {
     "name": "stdout",
     "output_type": "stream",
     "text": [
      "Populating the interactive namespace from numpy and matplotlib\n"
     ]
    }
   ],
   "source": [
    "from pscache.client import Client\n",
    "from pscache import rerun\n",
    "%pylab inline"
   ]
  },
  {
   "cell_type": "code",
   "execution_count": 4,
   "metadata": {
    "collapsed": false
   },
   "outputs": [],
   "source": [
    "c = Client('sine')"
   ]
  },
  {
   "cell_type": "code",
   "execution_count": 126,
   "metadata": {
    "collapsed": false
   },
   "outputs": [
    {
     "data": {
      "application/javascript": [
       "\n",
       "    var interval = 2;\n",
       "\n",
       "    var cell_elt  = this.element[0].parentElement.parentElement;\n",
       "    var cell      = $(cell_elt).data('cell');\n",
       "    var idx       = IPython.notebook.find_cell_index(cell);\n",
       "    var lock_name = \"rerun_lock_\" + idx\n",
       "\n",
       "    if (sessionStorage.getItem(lock_name) === null) {\n",
       "        sessionStorage.setItem(lock_name, \"off\");\n",
       "        console.log('setting first lock for cell :: ' + idx + ' :: OFF');\n",
       "    };\n",
       "\n",
       "    element.append('cell will rerun in: ' + interval + ' seconds');\n",
       "\n",
       "    if  ( sessionStorage.getItem(lock_name) === 'off' ) {\n",
       "\n",
       "        console.log('rerunning cell :: ' + idx);\n",
       "        sessionStorage.setItem(lock_name, \"on\");\n",
       "        console.log('lock for cell :: ' + idx + ' :: ON');\n",
       "\n",
       "        setTimeout(function(){\n",
       "            cell.execute();\n",
       "            console.log('ran cell ' + idx);\n",
       "            sessionStorage.setItem(lock_name, \"off\");\n",
       "            console.log('lock for cell :: ' + idx + ' :: OFF');\n",
       "        }, interval * 1000);\n",
       "\n",
       "    };\n",
       "    "
      ],
      "text/plain": [
       "<IPython.core.display.Javascript object>"
      ]
     },
     "metadata": {},
     "output_type": "display_data"
    },
    {
     "data": {
      "image/png": "[encoded data removed]",
      "text/plain": [
       "<matplotlib.figure.Figure at 0x110d39350>"
      ]
     },
     "metadata": {},
     "output_type": "display_data"
    }
   ],
   "source": [
    "%rerun 2\n",
    "data = c.query()\n",
    "if data is not None:\n",
    "    plot(data['x'], data['y'])"
   ]
  },
  {
   "cell_type": "code",
   "execution_count": null,
   "metadata": {
    "collapsed": true
   },
   "outputs": [],
   "source": []
  }
 ],
 "metadata": {
  "kernelspec": {
   "display_name": "Python 2",
   "language": "python",
   "name": "python2"
  },
  "language_info": {
   "codemirror_mode": {
    "name": "ipython",
    "version": 2
   },
   "file_extension": ".py",
   "mimetype": "text/x-python",
   "name": "python",
   "nbconvert_exporter": "python",
   "pygments_lexer": "ipython2",
   "version": "2.7.12"
  }
 },
 "nbformat": 4,
 "nbformat_minor": 2
}
